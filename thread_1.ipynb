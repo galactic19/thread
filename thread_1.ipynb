{
 "cells": [
  {
   "cell_type": "code",
   "execution_count": 54,
   "metadata": {},
   "outputs": [],
   "source": [
    "### Phthon Thread Example\n"
   ]
  },
  {
   "cell_type": "code",
   "execution_count": 55,
   "metadata": {},
   "outputs": [],
   "source": [
    "import threading\n",
    "import time"
   ]
  },
  {
   "cell_type": "code",
   "execution_count": 56,
   "metadata": {},
   "outputs": [],
   "source": [
    "def print_numbers():\n",
    "    for i in range(1,11):\n",
    "        print(f'Number {i}')\n",
    "        time.sleep(1)"
   ]
  },
  {
   "cell_type": "code",
   "execution_count": 57,
   "metadata": {},
   "outputs": [
    {
     "name": "stdout",
     "output_type": "stream",
     "text": [
      "thread 생성\n"
     ]
    }
   ],
   "source": [
    "print('thread 생성')\n",
    "thread = threading.Thread(target=print_numbers)\n"
   ]
  },
  {
   "cell_type": "code",
   "execution_count": 58,
   "metadata": {},
   "outputs": [
    {
     "name": "stdout",
     "output_type": "stream",
     "text": [
      "thread 시작\n",
      "Number 1\n"
     ]
    }
   ],
   "source": [
    "print('thread 시작')\n",
    "thread.start()"
   ]
  },
  {
   "cell_type": "code",
   "execution_count": 59,
   "metadata": {},
   "outputs": [
    {
     "name": "stdout",
     "output_type": "stream",
     "text": [
      "thread 종료 대기\n"
     ]
    },
    {
     "name": "stdout",
     "output_type": "stream",
     "text": [
      "Number 2\n",
      "Number 3\n",
      "Number 4\n",
      "Number 5\n",
      "Number 6\n",
      "Number 7\n",
      "Number 8\n",
      "Number 9\n",
      "Number 10\n"
     ]
    }
   ],
   "source": [
    "print('thread 종료 대기')\n",
    "thread.join()"
   ]
  },
  {
   "cell_type": "code",
   "execution_count": 60,
   "metadata": {},
   "outputs": [
    {
     "name": "stdout",
     "output_type": "stream",
     "text": [
      "프로그램 종료\n"
     ]
    }
   ],
   "source": [
    "print('프로그램 종료')"
   ]
  },
  {
   "cell_type": "markdown",
   "metadata": {},
   "source": [
    "위 코드를 실행하면, 다음과 같은 결과를 얻을 수 있다.\n",
    "\n",
    "- thread 시작 부분에서는 숫자 1이 찍히고,\n",
    "- 2 부터 숫자는 `thread.join` 부분 아래에서 찍히게 된다.\n",
    "\n",
    "`thread.join()` 이 호출된 이후로는 종료 대기를 하기 때문에, `thread.join()` 을 만나는 순간부터는 종료 대기를 하는 것을 대략적으로 알 수 있다.\n",
    "\n",
    "\n",
    "아마도 이것은 Thread는 병렬적으로 동작 하기 때문에,\n",
    "\n",
    "thread.start() 를 만나고 다음 코드를 실행하기 위해 다음 코드를 읽어 들였고,\n",
    "\n",
    "thread.join()이기 때문에,\n",
    "thread.start() 를 벗어나 thread.join() 에서 대기 하면서 종료를 대기 하는 것 같다.\n",
    "\n",
    "그런데 `프로그램 종료` 를 print 하는 부분은\n",
    "thread.join() 이 끝나고 나서 print 된다.\n",
    "\n",
    "생각대로 라면 thread.join()을 만난 다음 프로그램 종료를 먼저 print 하는게 맞지 않나 싶은데,\n",
    "\n",
    "그렇지 않고 먼저 thread.join()이 종료 대기를 하고 종료가 된다음에 처리가 되는 것같다.\n",
    "\n",
    "그렇다면 thread.join() 이 부분은 상황에 맞춰서 사용해 주는게 맞는 것 같다."
   ]
  }
 ],
 "metadata": {
  "kernelspec": {
   "display_name": "Python 3",
   "language": "python",
   "name": "python3"
  },
  "language_info": {
   "codemirror_mode": {
    "name": "ipython",
    "version": 3
   },
   "file_extension": ".py",
   "mimetype": "text/x-python",
   "name": "python",
   "nbconvert_exporter": "python",
   "pygments_lexer": "ipython3",
   "version": "3.11.1"
  }
 },
 "nbformat": 4,
 "nbformat_minor": 2
}
