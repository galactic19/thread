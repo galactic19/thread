{
 "cells": [
  {
   "cell_type": "code",
   "execution_count": 20,
   "metadata": {},
   "outputs": [],
   "source": [
    "# Thread_1 파일에서 학습한 내용으로 새로운 예제 작성.\n",
    "\n",
    "# 요구사항\n",
    "\n",
    "# 1. 두 개의 함수를 정의합니다: count_down(name, start) 와 count_up(name, end)\n",
    "# 2. count_down 함수는 주어진 시작 숫자부터 0까지 카운트다운합니다.\n",
    "# 3. count_up 함수는 0부터 주어진 끝 숫자까지 카운트업합니다.\n",
    "# 4. 두 함수 모두 1초 간격으로 숫자를 출력합니다.\n",
    "# 5. 메인 프로그램에서 두 개의 Thread를 생성하여 각각 count_down과 count_up을 실행합니다."
   ]
  },
  {
   "cell_type": "code",
   "execution_count": 21,
   "metadata": {},
   "outputs": [],
   "source": [
    "import threading\n",
    "import time\n",
    "\n",
    "start = 10\n",
    "end = 20\n",
    "interval = 1"
   ]
  },
  {
   "cell_type": "code",
   "execution_count": 22,
   "metadata": {},
   "outputs": [],
   "source": [
    "def count_down(name, start):\n",
    "    for i in range(start, -1, -1):\n",
    "        if i == 0:\n",
    "            print('count_down를 종료 합니다.')\n",
    "            break\n",
    "        \n",
    "        print(f'{name}: {i}')\n",
    "        time.sleep(interval)\n",
    "\n",
    "def count_up(name, end):\n",
    "    for i in range(0, end+1):\n",
    "        print(f\"{name} : {i}\")\n",
    "        time.sleep(interval)"
   ]
  },
  {
   "cell_type": "code",
   "execution_count": 25,
   "metadata": {},
   "outputs": [
    {
     "name": "stdout",
     "output_type": "stream",
     "text": [
      "Thread를 생성 합니다.\n"
     ]
    }
   ],
   "source": [
    "\n",
    "print('Thread를 생성 합니다.')\n",
    "thread_1 = threading.Thread(target=count_down, args=('count_down', start))\n",
    "thread_2 = threading.Thread(target=count_up, args=('count_up', end))"
   ]
  },
  {
   "cell_type": "code",
   "execution_count": 27,
   "metadata": {},
   "outputs": [
    {
     "name": "stdout",
     "output_type": "stream",
     "text": [
      "Thread를 시작 합니다.\n"
     ]
    },
    {
     "ename": "RuntimeError",
     "evalue": "threads can only be started once",
     "output_type": "error",
     "traceback": [
      "\u001b[1;31m---------------------------------------------------------------------------\u001b[0m",
      "\u001b[1;31mRuntimeError\u001b[0m                              Traceback (most recent call last)",
      "Cell \u001b[1;32mIn[27], line 2\u001b[0m\n\u001b[0;32m      1\u001b[0m \u001b[38;5;28mprint\u001b[39m(\u001b[38;5;124m'\u001b[39m\u001b[38;5;124mThread를 시작 합니다.\u001b[39m\u001b[38;5;124m'\u001b[39m)\n\u001b[1;32m----> 2\u001b[0m \u001b[43mthread_1\u001b[49m\u001b[38;5;241;43m.\u001b[39;49m\u001b[43mstart\u001b[49m\u001b[43m(\u001b[49m\u001b[43m)\u001b[49m\n\u001b[0;32m      3\u001b[0m thread_2\u001b[38;5;241m.\u001b[39mstart()\n",
      "File \u001b[1;32mc:\\Users\\galac\\AppData\\Local\\Programs\\Python\\Python311\\Lib\\threading.py:952\u001b[0m, in \u001b[0;36mThread.start\u001b[1;34m(self)\u001b[0m\n\u001b[0;32m    949\u001b[0m     \u001b[38;5;28;01mraise\u001b[39;00m \u001b[38;5;167;01mRuntimeError\u001b[39;00m(\u001b[38;5;124m\"\u001b[39m\u001b[38;5;124mthread.__init__() not called\u001b[39m\u001b[38;5;124m\"\u001b[39m)\n\u001b[0;32m    951\u001b[0m \u001b[38;5;28;01mif\u001b[39;00m \u001b[38;5;28mself\u001b[39m\u001b[38;5;241m.\u001b[39m_started\u001b[38;5;241m.\u001b[39mis_set():\n\u001b[1;32m--> 952\u001b[0m     \u001b[38;5;28;01mraise\u001b[39;00m \u001b[38;5;167;01mRuntimeError\u001b[39;00m(\u001b[38;5;124m\"\u001b[39m\u001b[38;5;124mthreads can only be started once\u001b[39m\u001b[38;5;124m\"\u001b[39m)\n\u001b[0;32m    954\u001b[0m \u001b[38;5;28;01mwith\u001b[39;00m _active_limbo_lock:\n\u001b[0;32m    955\u001b[0m     _limbo[\u001b[38;5;28mself\u001b[39m] \u001b[38;5;241m=\u001b[39m \u001b[38;5;28mself\u001b[39m\n",
      "\u001b[1;31mRuntimeError\u001b[0m: threads can only be started once"
     ]
    }
   ],
   "source": [
    "print('Thread를 시작 합니다.')\n",
    "thread_1.start()\n",
    "thread_2.start()"
   ]
  },
  {
   "cell_type": "code",
   "execution_count": null,
   "metadata": {},
   "outputs": [],
   "source": [
    "print('Thread 종료 대기 중 ...')\n",
    "thread_1.join()\n",
    "thread_2.join()\n",
    "\n",
    "print('프로그램이 종료 되었음.')"
   ]
  }
 ],
 "metadata": {
  "kernelspec": {
   "display_name": "Python 3",
   "language": "python",
   "name": "python3"
  },
  "language_info": {
   "codemirror_mode": {
    "name": "ipython",
    "version": 3
   },
   "file_extension": ".py",
   "mimetype": "text/x-python",
   "name": "python",
   "nbconvert_exporter": "python",
   "pygments_lexer": "ipython3",
   "version": "3.11.1"
  }
 },
 "nbformat": 4,
 "nbformat_minor": 2
}
