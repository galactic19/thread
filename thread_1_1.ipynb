{
 "cells": [
  {
   "cell_type": "code",
   "execution_count": 35,
   "metadata": {},
   "outputs": [],
   "source": [
    "# Thread_1 파일에서 학습한 내용으로 새로운 예제 작성.\n",
    "\n",
    "# 요구사항\n",
    "\n",
    "# 1. 두 개의 함수를 정의합니다: count_down(name, start) 와 count_up(name, end)\n",
    "# 2. count_down 함수는 주어진 시작 숫자부터 0까지 카운트다운합니다.\n",
    "# 3. count_up 함수는 0부터 주어진 끝 숫자까지 카운트업합니다.\n",
    "# 4. 두 함수 모두 1초 간격으로 숫자를 출력합니다.\n",
    "# 5. 메인 프로그램에서 두 개의 Thread를 생성하여 각각 count_down과 count_up을 실행합니다."
   ]
  },
  {
   "cell_type": "code",
   "execution_count": 36,
   "metadata": {},
   "outputs": [],
   "source": [
    "import threading\n",
    "import time\n",
    "\n",
    "start = 10\n",
    "end = 20\n",
    "interval = 1"
   ]
  },
  {
   "cell_type": "code",
   "execution_count": 37,
   "metadata": {},
   "outputs": [],
   "source": [
    "def count_down(name, start):\n",
    "    for i in range(start, -1, -1):\n",
    "        if i == 0:\n",
    "            print('count_down를 종료 합니다.')\n",
    "            break\n",
    "        \n",
    "        print(f'{name}: {i}')\n",
    "        time.sleep(interval)\n",
    "\n",
    "def count_up(name, end):\n",
    "    for i in range(0, end+1):\n",
    "        print(f\"{name} : {i}\")\n",
    "        time.sleep(interval)"
   ]
  },
  {
   "cell_type": "code",
   "execution_count": 38,
   "metadata": {},
   "outputs": [
    {
     "name": "stdout",
     "output_type": "stream",
     "text": [
      "Thread를 생성 합니다.\n"
     ]
    }
   ],
   "source": [
    "\n",
    "print('Thread를 생성 합니다.')\n",
    "thread_1 = threading.Thread(target=count_down, args=('count_down', start))\n",
    "thread_2 = threading.Thread(target=count_up, args=('count_up', end))"
   ]
  },
  {
   "cell_type": "code",
   "execution_count": 39,
   "metadata": {},
   "outputs": [
    {
     "name": "stdout",
     "output_type": "stream",
     "text": [
      "Thread를 시작 합니다.\n",
      "count_down: 10\n",
      "count_up : 0\n"
     ]
    }
   ],
   "source": [
    "print('Thread를 시작 합니다.')\n",
    "thread_1.start()\n",
    "thread_2.start()"
   ]
  },
  {
   "cell_type": "code",
   "execution_count": 40,
   "metadata": {},
   "outputs": [
    {
     "name": "stdout",
     "output_type": "stream",
     "text": [
      "Thread 종료 대기 중 ...\n"
     ]
    },
    {
     "name": "stdout",
     "output_type": "stream",
     "text": [
      "count_down: 9count_up : 1\n",
      "\n",
      "count_up : 2\n",
      "count_down: 8\n",
      "count_up : 3count_down: 7\n",
      "\n",
      "count_down: 6\n",
      "count_up : 4\n",
      "count_down: 5count_up : 5\n",
      "\n",
      "count_up : 6\n",
      "count_down: 4\n",
      "count_up : 7count_down: 3\n",
      "\n",
      "count_down: 2\n",
      "count_up : 8\n",
      "count_down: 1count_up : 9\n",
      "\n",
      "count_up : 10count_down를 종료 합니다.\n",
      "\n",
      "count_up : 11\n",
      "count_up : 12\n",
      "count_up : 13\n",
      "count_up : 14\n",
      "count_up : 15\n",
      "count_up : 16\n",
      "count_up : 17\n",
      "count_up : 18\n",
      "count_up : 19\n",
      "count_up : 20\n"
     ]
    }
   ],
   "source": [
    "print('Thread 종료 대기 중 ...')\n",
    "thread_1.join()\n",
    "thread_2.join()\n"
   ]
  },
  {
   "cell_type": "code",
   "execution_count": 41,
   "metadata": {},
   "outputs": [
    {
     "name": "stdout",
     "output_type": "stream",
     "text": [
      "프로그램이 종료 되었음.\n"
     ]
    }
   ],
   "source": [
    "print('프로그램이 종료 되었음.')"
   ]
  }
 ],
 "metadata": {
  "kernelspec": {
   "display_name": "Python 3",
   "language": "python",
   "name": "python3"
  },
  "language_info": {
   "codemirror_mode": {
    "name": "ipython",
    "version": 3
   },
   "file_extension": ".py",
   "mimetype": "text/x-python",
   "name": "python",
   "nbconvert_exporter": "python",
   "pygments_lexer": "ipython3",
   "version": "3.11.1"
  }
 },
 "nbformat": 4,
 "nbformat_minor": 2
}
