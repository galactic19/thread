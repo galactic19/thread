{
 "cells": [
  {
   "cell_type": "markdown",
   "metadata": {},
   "source": [
    "## 기본적인 PyQt5 매커니즘.\n",
    "\n",
    "   - PyQt5의 주요 특징.\n",
    "    1. 크로스 플랫폼 지원\n",
    "    2. 다양한 위젯과 레이아웃\n",
    "    3. 시그널과 슬롯 매커니즘.\n",
    "    4. Thread 안전성을 위한 특별한 매커니즘."
   ]
  },
  {
   "cell_type": "code",
   "execution_count": 1,
   "metadata": {},
   "outputs": [],
   "source": [
    "import sys\n",
    "from PyQt5.QtWidgets import QApplication, QMainWindow, QPushButton, QLabel\n"
   ]
  },
  {
   "cell_type": "code",
   "execution_count": 2,
   "metadata": {},
   "outputs": [],
   "source": [
    "class MainWindow(QMainWindow):\n",
    "    def __init__(self):\n",
    "        super().__init__()\n",
    "        self.setWindowTitle(\"My App\")\n",
    "        self.setGeometry(100, 100, 400, 200)\n",
    "        \n",
    "        button = QPushButton(\"클릭\", self)\n",
    "        button.setGeometry(100, 100, 200, 60)\n",
    "        button.clicked.connect(self.button_clicked)\n",
    "        \n",
    "        self.count = 0\n",
    "        self.label = QLabel(f'클릭한 횟수 : {self.count}', self)\n",
    "        self.label.setGeometry(100, 200, 200, 60)\n",
    "        \n",
    "    def button_clicked(self):\n",
    "        self.count += 1\n",
    "        self.label.setText(f'클릭한 횟수 : {self.count}')\n",
    "        print(\"버튼 클릭됨\")"
   ]
  },
  {
   "cell_type": "code",
   "execution_count": 3,
   "metadata": {},
   "outputs": [
    {
     "name": "stdout",
     "output_type": "stream",
     "text": [
      "버튼 클릭됨\n",
      "버튼 클릭됨\n",
      "버튼 클릭됨\n",
      "버튼 클릭됨\n",
      "버튼 클릭됨\n",
      "버튼 클릭됨\n",
      "버튼 클릭됨\n",
      "버튼 클릭됨\n",
      "버튼 클릭됨\n",
      "버튼 클릭됨\n",
      "버튼 클릭됨\n",
      "버튼 클릭됨\n",
      "버튼 클릭됨\n",
      "버튼 클릭됨\n",
      "버튼 클릭됨\n",
      "버튼 클릭됨\n",
      "버튼 클릭됨\n",
      "버튼 클릭됨\n",
      "버튼 클릭됨\n",
      "버튼 클릭됨\n",
      "버튼 클릭됨\n",
      "버튼 클릭됨\n",
      "버튼 클릭됨\n",
      "버튼 클릭됨\n",
      "버튼 클릭됨\n",
      "버튼 클릭됨\n"
     ]
    },
    {
     "ename": "SystemExit",
     "evalue": "0",
     "output_type": "error",
     "traceback": [
      "An exception has occurred, use %tb to see the full traceback.\n",
      "\u001b[1;31mSystemExit\u001b[0m\u001b[1;31m:\u001b[0m 0\n"
     ]
    },
    {
     "name": "stderr",
     "output_type": "stream",
     "text": [
      "c:\\Users\\galac\\AppData\\Local\\Programs\\Python\\Python311\\Lib\\site-packages\\IPython\\core\\interactiveshell.py:3450: UserWarning: To exit: use 'exit', 'quit', or Ctrl-D.\n",
      "  warn(\"To exit: use 'exit', 'quit', or Ctrl-D.\", stacklevel=1)\n"
     ]
    }
   ],
   "source": [
    "if __name__ == \"__main__\":\n",
    "    app = QApplication(sys.argv)\n",
    "    window = MainWindow()\n",
    "    window.show()\n",
    "    sys.exit(app.exec_())\n",
    "    "
   ]
  }
 ],
 "metadata": {
  "kernelspec": {
   "display_name": "Python 3",
   "language": "python",
   "name": "python3"
  },
  "language_info": {
   "codemirror_mode": {
    "name": "ipython",
    "version": 3
   },
   "file_extension": ".py",
   "mimetype": "text/x-python",
   "name": "python",
   "nbconvert_exporter": "python",
   "pygments_lexer": "ipython3",
   "version": "3.11.1"
  }
 },
 "nbformat": 4,
 "nbformat_minor": 2
}
