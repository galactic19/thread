{
 "cells": [
  {
   "cell_type": "markdown",
   "metadata": {},
   "source": [
    "## Lock 사용 예시."
   ]
  },
  {
   "cell_type": "code",
   "execution_count": 90,
   "metadata": {},
   "outputs": [],
   "source": [
    "import threading\n",
    "import time\n",
    "\n",
    "counter = 0\n",
    "lock = threading.Lock()"
   ]
  },
  {
   "cell_type": "code",
   "execution_count": 91,
   "metadata": {},
   "outputs": [],
   "source": [
    "def increment():\n",
    "    global counter\n",
    "    \n",
    "    for _ in range(100):\n",
    "        with lock:\n",
    "            print('increment: ', counter)\n",
    "            counter += 1"
   ]
  },
  {
   "cell_type": "code",
   "execution_count": 92,
   "metadata": {},
   "outputs": [],
   "source": [
    "def decrement():\n",
    "    global counter\n",
    "    for _ in range(100):\n",
    "        with lock:\n",
    "            print('decrement: ', counter)\n",
    "            counter -= 1"
   ]
  },
  {
   "cell_type": "code",
   "execution_count": 93,
   "metadata": {},
   "outputs": [
    {
     "name": "stdout",
     "output_type": "stream",
     "text": [
      "0\n"
     ]
    }
   ],
   "source": [
    "thread1 = threading.Thread(target=increment)\n",
    "thread2 = threading.Thread(target=decrement)\n",
    "print(counter)"
   ]
  },
  {
   "cell_type": "code",
   "execution_count": 94,
   "metadata": {},
   "outputs": [
    {
     "name": "stdout",
     "output_type": "stream",
     "text": [
      "increment:  0\n",
      "increment:  1\n",
      "increment:  2\n",
      "increment:  3\n",
      "increment:  4\n",
      "increment:  5\n",
      "increment:  6\n",
      "increment:  7\n",
      "increment:  8\n",
      "increment:  9\n",
      "increment:  10\n",
      "increment:  11\n",
      "increment:  12\n",
      "increment:  13\n",
      "increment:  14\n",
      "increment:  15\n",
      "increment:  16\n",
      "increment:  17\n",
      "increment:  18\n",
      "increment:  19\n",
      "increment:  20\n",
      "increment:  21\n",
      "increment:  22\n",
      "increment:  23\n",
      "increment:  24\n",
      "increment:  25\n",
      "increment:  26\n",
      "increment:  27\n",
      "increment:  28\n",
      "increment:  29\n",
      "increment:  30\n",
      "increment:  31\n",
      "increment:  32\n",
      "increment:  33\n",
      "increment:  34\n",
      "increment:  35\n",
      "increment:  36\n",
      "increment:  37\n",
      "increment:  38\n",
      "increment:  39\n",
      "increment:  40\n",
      "increment:  41\n",
      "increment:  42\n",
      "increment:  43\n",
      "increment:  44\n",
      "increment:  45\n",
      "increment:  46\n",
      "increment:  47\n",
      "increment:  48\n",
      "increment:  49\n",
      "increment:  50\n",
      "increment:  51\n",
      "increment:  52\n",
      "increment:  53\n",
      "increment:  54\n",
      "increment:  55\n",
      "increment:  56\n",
      "increment:  57\n",
      "increment:  58\n",
      "increment:  59\n",
      "increment:  60\n",
      "increment:  61\n",
      "increment:  62\n",
      "increment:  63\n",
      "increment:  64\n",
      "increment:  65\n",
      "increment:  66\n",
      "increment:  67\n",
      "increment:  68\n",
      "increment:  69\n",
      "increment:  70\n",
      "increment:  71\n",
      "increment:  72\n",
      "increment:  73\n",
      "increment:  74\n",
      "increment:  75\n",
      "increment:  76\n",
      "increment:  77\n",
      "increment:  78\n",
      "increment:  79\n",
      "increment:  80\n",
      "increment:  81\n",
      "increment:  82\n",
      "increment:  83\n",
      "increment:  84\n",
      "increment:  85\n",
      "increment:  86\n",
      "increment:  87\n",
      "increment:  88\n",
      "increment:  89\n",
      "increment:  90\n",
      "increment:  91\n",
      "increment:  92\n",
      "increment:  93\n",
      "increment:  94\n",
      "increment:  95\n",
      "increment:  96\n",
      "increment:  97\n",
      "increment:  98\n",
      "increment:  99\n",
      "decrement:  100\n",
      "decrement:  99\n",
      "decrement:  98\n",
      "decrement:  97\n",
      "decrement:  96\n",
      "decrement:  95\n",
      "decrement:  94\n",
      "decrement:  93\n",
      "decrement:  92\n",
      "decrement:  91\n",
      "decrement:  90\n",
      "decrement:  89\n",
      "decrement:  88\n",
      "decrement:  87\n",
      "decrement:  86\n",
      "decrement:  85\n",
      "decrement:  84\n",
      "decrement:  83\n",
      "decrement:  82\n",
      "decrement:  81\n",
      "decrement:  80\n",
      "decrement:  79\n",
      "decrement:  78\n",
      "decrement:  77\n",
      "decrement:  76\n",
      "decrement:  75\n",
      "decrement:  74\n",
      "decrement:  73\n",
      "decrement:  72\n",
      "decrement:  71\n",
      "decrement:  70\n",
      "decrement:  69\n",
      "decrement:  68\n",
      "decrement:  67\n",
      "decrement:  66\n",
      "decrement:  65\n",
      "decrement:  64\n",
      "decrement:  63\n",
      "decrement:  62\n",
      "decrement:  61\n",
      "decrement:  60\n",
      "decrement:  59\n",
      "decrement:  58\n",
      "decrement:  57\n",
      "decrement:  56\n",
      "decrement:  55\n",
      "decrement:  54\n",
      "decrement:  53\n",
      "decrement:  52\n",
      "decrement:  51\n",
      "decrement:  50\n",
      "decrement:  49\n",
      "decrement:  48\n",
      "decrement:  47\n",
      "decrement:  46\n",
      "decrement:  45\n",
      "decrement:  44\n",
      "decrement:  43\n",
      "decrement:  42\n",
      "decrement:  41\n",
      "decrement:  40\n",
      "decrement:  39\n",
      "decrement:  38\n",
      "decrement:  37\n",
      "decrement:  36\n",
      "decrement:  35\n",
      "decrement:  34\n",
      "decrement:  33\n",
      "decrement:  32\n",
      "decrement:  31\n",
      "decrement:  30\n",
      "decrement:  29\n",
      "decrement:  28\n",
      "decrement:  27\n",
      "decrement:  26\n",
      "decrement:  25\n",
      "decrement:  24\n",
      "decrement:  23\n",
      "decrement:  22\n",
      "decrement:  21\n",
      "decrement:  20\n",
      "decrement:  19\n",
      "decrement:  18\n",
      "decrement:  17\n",
      "decrement:  16\n",
      "decrement:  15\n",
      "decrement:  14\n",
      "decrement:  13\n",
      "decrement:  12\n",
      "decrement:  11\n",
      "decrement:  10\n",
      "decrement:  9\n",
      "decrement:  8\n",
      "decrement:  7\n",
      "decrement:  6\n",
      "decrement:  5\n",
      "decrement:  4\n",
      "decrement:  3\n",
      "decrement:  2\n",
      "decrement:  1\n",
      "0\n"
     ]
    }
   ],
   "source": [
    "thread1.start()\n",
    "thread2.start()\n",
    "print(counter)\n"
   ]
  },
  {
   "cell_type": "code",
   "execution_count": 95,
   "metadata": {},
   "outputs": [
    {
     "name": "stdout",
     "output_type": "stream",
     "text": [
      "0\n"
     ]
    }
   ],
   "source": [
    "thread1.join()\n",
    "thread2.join()\n",
    "print(counter)"
   ]
  },
  {
   "cell_type": "code",
   "execution_count": 96,
   "metadata": {},
   "outputs": [
    {
     "name": "stdout",
     "output_type": "stream",
     "text": [
      "최종 카운터 값 :  0\n"
     ]
    }
   ],
   "source": [
    "print('최종 카운터 값 : ', counter)"
   ]
  }
 ],
 "metadata": {
  "kernelspec": {
   "display_name": "Python 3",
   "language": "python",
   "name": "python3"
  },
  "language_info": {
   "codemirror_mode": {
    "name": "ipython",
    "version": 3
   },
   "file_extension": ".py",
   "mimetype": "text/x-python",
   "name": "python",
   "nbconvert_exporter": "python",
   "pygments_lexer": "ipython3",
   "version": "3.11.1"
  }
 },
 "nbformat": 4,
 "nbformat_minor": 2
}
