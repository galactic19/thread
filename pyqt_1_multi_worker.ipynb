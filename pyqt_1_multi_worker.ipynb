{
 "cells": [
  {
   "cell_type": "code",
   "execution_count": 1,
   "metadata": {},
   "outputs": [
    {
     "name": "stdout",
     "output_type": "stream",
     "text": [
      "0 <PyQt5.QtWidgets.QProgressBar object at 0x00000288B22AC5E0>\n",
      "1 <PyQt5.QtWidgets.QProgressBar object at 0x00000288B22AC670>\n",
      "2 <PyQt5.QtWidgets.QProgressBar object at 0x00000288B22AC700>\n"
     ]
    },
    {
     "ename": "SystemExit",
     "evalue": "0",
     "output_type": "error",
     "traceback": [
      "An exception has occurred, use %tb to see the full traceback.\n",
      "\u001b[1;31mSystemExit\u001b[0m\u001b[1;31m:\u001b[0m 0\n"
     ]
    },
    {
     "name": "stderr",
     "output_type": "stream",
     "text": [
      "c:\\Users\\galac\\AppData\\Local\\Programs\\Python\\Python311\\Lib\\site-packages\\IPython\\core\\interactiveshell.py:3450: UserWarning: To exit: use 'exit', 'quit', or Ctrl-D.\n",
      "  warn(\"To exit: use 'exit', 'quit', or Ctrl-D.\", stacklevel=1)\n"
     ]
    }
   ],
   "source": [
    "import sys\n",
    "import time\n",
    "from PyQt5.QtWidgets import QApplication, QMainWindow, QPushButton, QLabel, QVBoxLayout, QWidget, QProgressBar\n",
    "from PyQt5.QtCore import QThread, pyqtSignal, QObject\n",
    "\n",
    "class WorkerSignals(QObject):\n",
    "    finished = pyqtSignal()\n",
    "    progress = pyqtSignal(int)\n",
    "    error = pyqtSignal(str)\n",
    "\n",
    "class Worker(QThread):\n",
    "    def __init__(self, n):\n",
    "        super().__init__()\n",
    "        self.n = n\n",
    "        self.signals = WorkerSignals()\n",
    "\n",
    "    def run(self):\n",
    "        try:\n",
    "            for i in range(self.n):\n",
    "                time.sleep(0.1)\n",
    "                self.signals.progress.emit(int((i + 1) / self.n * 100))\n",
    "            self.signals.finished.emit()\n",
    "        except Exception as e:\n",
    "            self.signals.error.emit(str(e))\n",
    "\n",
    "class MainWindow(QMainWindow):\n",
    "    def __init__(self):\n",
    "        super().__init__()\n",
    "        self.setWindowTitle(\"PyQt5 다중 Thread 예제\")\n",
    "        self.setGeometry(100, 100, 400, 300)\n",
    "\n",
    "        layout = QVBoxLayout()\n",
    "\n",
    "        self.start_button = QPushButton(\"작업 시작\")\n",
    "        self.start_button.clicked.connect(self.start_workers)\n",
    "        layout.addWidget(self.start_button)\n",
    "\n",
    "        self.progress_bars = []\n",
    "        for i in range(3):\n",
    "            progress_bar = QProgressBar()\n",
    "            layout.addWidget(progress_bar)\n",
    "            self.progress_bars.append(progress_bar)\n",
    "\n",
    "        self.status_label = QLabel(\"대기 중...\")\n",
    "        layout.addWidget(self.status_label)\n",
    "\n",
    "        container = QWidget()\n",
    "        container.setLayout(layout)\n",
    "        self.setCentralWidget(container)\n",
    "\n",
    "        self.workers = []\n",
    "\n",
    "    def start_workers(self):\n",
    "        self.start_button.setEnabled(False)\n",
    "        self.status_label.setText(\"작업 중...\")\n",
    "        \n",
    "        for i, progress_bar in enumerate(self.progress_bars):\n",
    "            worker = Worker(100 + i * 50)  # 각 작업의 길이를 다르게 설정\n",
    "            worker.signals.progress.connect(progress_bar.setValue)\n",
    "            worker.signals.finished.connect(self.check_workers_finished)\n",
    "            worker.signals.error.connect(self.handle_error)\n",
    "            self.workers.append(worker)\n",
    "            worker.start()\n",
    "\n",
    "    def check_workers_finished(self):\n",
    "        if all(not worker.isRunning() for worker in self.workers):\n",
    "            self.status_label.setText(\"모든 작업 완료!\")\n",
    "            self.start_button.setEnabled(True)\n",
    "            self.workers.clear()\n",
    "\n",
    "    def handle_error(self, error_message):\n",
    "        self.status_label.setText(f\"오류 발생: {error_message}\")\n",
    "        self.start_button.setEnabled(True)\n",
    "\n",
    "if __name__ == \"__main__\":\n",
    "    app = QApplication(sys.argv)\n",
    "    window = MainWindow()\n",
    "    window.show()\n",
    "    sys.exit(app.exec_())"
   ]
  }
 ],
 "metadata": {
  "kernelspec": {
   "display_name": "Python 3",
   "language": "python",
   "name": "python3"
  },
  "language_info": {
   "codemirror_mode": {
    "name": "ipython",
    "version": 3
   },
   "file_extension": ".py",
   "mimetype": "text/x-python",
   "name": "python",
   "nbconvert_exporter": "python",
   "pygments_lexer": "ipython3",
   "version": "3.11.1"
  }
 },
 "nbformat": 4,
 "nbformat_minor": 2
}
