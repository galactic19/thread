{
 "cells": [
  {
   "cell_type": "markdown",
   "metadata": {},
   "source": [
    "### PyQt5 기본적인 Thread 사용 예제.\n",
    "\n",
    "- 아래 예제는 `worker` 클래스가 별도의 Thread에서 작업을 수행하고, 시그널을 통해 메인 Thread로 진행 상황을 알린다."
   ]
  },
  {
   "cell_type": "code",
   "execution_count": 1,
   "metadata": {},
   "outputs": [],
   "source": [
    "import sys\n",
    "import time\n",
    "from PyQt5.QtWidgets import QApplication, QMainWindow, QWidget, QLabel, QPushButton, QProgressBar\n",
    "from PyQt5.QtCore import QThread, pyqtSignal, QTimer\n"
   ]
  },
  {
   "cell_type": "code",
   "execution_count": 2,
   "metadata": {},
   "outputs": [],
   "source": [
    "class Worker(QThread):\n",
    "    update_signal = pyqtSignal(int)\n",
    "    \n",
    "    def run(self):\n",
    "        for i in range(1, 101):\n",
    "            time.sleep(0.1)\n",
    "            self.update_signal.emit(i)"
   ]
  },
  {
   "cell_type": "code",
   "execution_count": 3,
   "metadata": {},
   "outputs": [],
   "source": [
    "class MainWindow(QMainWindow):\n",
    "    def __init__(self):\n",
    "        super().__init__()\n",
    "        \n",
    "        self.setWindowTitle(\"PyQt5 Thread 예제\")\n",
    "        self.setGeometry(200, 200, 400, 300)\n",
    "        \n",
    "        self.label = QLabel('준비', self)\n",
    "        self.label.setGeometry(100, 50, 100, 30)\n",
    "        \n",
    "        self.prgbar = QProgressBar(self)\n",
    "        self.prgbar.setGeometry(100, 150, 200, 30)\n",
    "        \n",
    "        button = QPushButton('Start', self)\n",
    "        button.setGeometry(100, 100, 100, 30)\n",
    "        button.clicked.connect(self.start_worker)\n",
    "        \n",
    "        self.worker = Worker()\n",
    "        self.worker.update_signal.connect(self.update_label)\n",
    "        self.worker.finished.connect(self.finish_worker)\n",
    "        \n",
    "    def start_worker(self):\n",
    "        self.worker.start()\n",
    "        \n",
    "    def update_label(self, value):\n",
    "        self.label.setText(f'진행중 : {value}')\n",
    "        self.prgbar.setValue(value)\n",
    "        \n",
    "    def finish_worker(self):\n",
    "        self.label.setText('완료')"
   ]
  },
  {
   "cell_type": "code",
   "execution_count": 4,
   "metadata": {},
   "outputs": [
    {
     "ename": "SystemExit",
     "evalue": "0",
     "output_type": "error",
     "traceback": [
      "An exception has occurred, use %tb to see the full traceback.\n",
      "\u001b[1;31mSystemExit\u001b[0m\u001b[1;31m:\u001b[0m 0\n"
     ]
    },
    {
     "name": "stderr",
     "output_type": "stream",
     "text": [
      "c:\\Users\\galac\\AppData\\Local\\Programs\\Python\\Python311\\Lib\\site-packages\\IPython\\core\\interactiveshell.py:3450: UserWarning: To exit: use 'exit', 'quit', or Ctrl-D.\n",
      "  warn(\"To exit: use 'exit', 'quit', or Ctrl-D.\", stacklevel=1)\n"
     ]
    }
   ],
   "source": [
    "if __name__ == \"__main__\":\n",
    "    app = QApplication(sys.argv)\n",
    "    window = MainWindow()\n",
    "    window.show()\n",
    "    sys.exit(app.exec_())"
   ]
  }
 ],
 "metadata": {
  "kernelspec": {
   "display_name": "Python 3",
   "language": "python",
   "name": "python3"
  },
  "language_info": {
   "codemirror_mode": {
    "name": "ipython",
    "version": 3
   },
   "file_extension": ".py",
   "mimetype": "text/x-python",
   "name": "python",
   "nbconvert_exporter": "python",
   "pygments_lexer": "ipython3",
   "version": "3.11.1"
  }
 },
 "nbformat": 4,
 "nbformat_minor": 2
}
